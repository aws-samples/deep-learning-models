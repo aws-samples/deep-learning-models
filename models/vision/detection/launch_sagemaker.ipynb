{
 "cells": [
  {
   "cell_type": "code",
   "execution_count": 168,
   "metadata": {},
   "outputs": [],
   "source": [
    "from sagemaker import get_execution_role\n",
    "from sagemaker.tensorflow import TensorFlow\n",
    "from datetime import datetime\n",
    "import os\n",
    "import pprint"
   ]
  },
  {
   "cell_type": "markdown",
   "metadata": {},
   "source": [
    "### Hyperparameters that override default config "
   ]
  },
  {
   "cell_type": "code",
   "execution_count": 169,
   "metadata": {},
   "outputs": [],
   "source": [
    "hyperparam_collection = {\n",
    "    # 0.365 - 12 epoch config\n",
    "    '1x-8-1-2-conv-nobn-nols': {\n",
    "        'schedule': '1x',\n",
    "        'fp16': True,\n",
    "        'base_learning_rate': 15e-3,\n",
    "        'warmup_steps': 500,\n",
    "        'warmup_init_lr_scale': 3.0,\n",
    "        'instance_type': 'ml.p3.16xlarge',\n",
    "        'instance_count': 1,\n",
    "        'batch_size_per_device': 2,\n",
    "        'num_workers_per_host': 8,\n",
    "        'use_conv': True,\n",
    "        'use_rcnn_bn': False,\n",
    "        'ls': 0.0\n",
    "    },\n",
    "    # 0.364 - 12 epoch config\n",
    "    '1x-8-1-4-conv-nobn-nols': {\n",
    "        'schedule': '1x',\n",
    "        'fp16': True,\n",
    "        'base_learning_rate': 15e-3,\n",
    "        'warmup_steps': 500,\n",
    "        'warmup_init_lr_scale': 3.0,\n",
    "        'batch_size_per_device': 4,\n",
    "        'instance_type': 'ml.p3.16xlarge',\n",
    "        'instance_count': 1,\n",
    "        'num_workers_per_host': 8,\n",
    "        'use_conv': True,\n",
    "        'use_rcnn_bn': False,\n",
    "        'ls': 0.0,\n",
    "    },\n",
    "    '1x-8-1-4-conv-nobn-ls': {\n",
    "        'schedule': '1x',\n",
    "        'fp16': True,\n",
    "        'base_learning_rate': 15e-3,\n",
    "        'warmup_steps': 500,\n",
    "        'warmup_init_lr_scale': 3.0,\n",
    "        'batch_size_per_device': 4,\n",
    "        'instance_type': 'ml.p3.16xlarge',\n",
    "        'instance_count': 1,\n",
    "        'num_workers_per_host': 8,\n",
    "        'use_conv': True,\n",
    "        'use_rcnn_bn': False,\n",
    "        'ls': 0.05,\n",
    "    },\n",
    "    '1x-8-1-4-fc-bn-ls': {\n",
    "        'schedule': '1x',\n",
    "        'fp16': True,\n",
    "        'base_learning_rate': 15e-3,\n",
    "        'warmup_steps': 500,\n",
    "        'warmup_init_lr_scale': 3.0,\n",
    "        'batch_size_per_device': 4,\n",
    "        'instance_type': 'ml.p3.16xlarge',\n",
    "        'instance_count': 1,\n",
    "        'num_workers_per_host': 8,\n",
    "        'use_conv': False,\n",
    "        'use_rcnn_bn': True,\n",
    "        'ls': 0.1\n",
    "    },\n",
    "    # 0.364 - 12 epoch config\n",
    "    '1x-8-2-4-conv-nobn-nols': {\n",
    "        'schedule': '1x',\n",
    "        'fp16': True,\n",
    "        'base_learning_rate': 15e-3,\n",
    "        'warmup_steps': 1800,\n",
    "        'warmup_init_lr_scale': 3.0,\n",
    "        'batch_size_per_device': 4,\n",
    "        'instance_type': 'ml.p3dn.24xlarge',\n",
    "        'instance_count': 2,\n",
    "        'num_workers_per_host': 8,\n",
    "        'use_conv': True,\n",
    "        'use_rcnn_bn': False,\n",
    "        'ls': 0.0\n",
    "    },\n",
    "    # 0.357 - 12 epoch config\n",
    "    '1x-8-4-4-conv-nobn-nols': {\n",
    "        'schedule': '1x',\n",
    "        'fp16': True,\n",
    "        'base_learning_rate': 5e-3,\n",
    "        'warmup_steps': 900,\n",
    "        'warmup_init_lr_scale': 3.0,\n",
    "        'batch_size_per_device': 4,\n",
    "        'instance_type': 'ml.p3dn.24xlarge',\n",
    "        'instance_count': 4,\n",
    "        'num_workers_per_host': 8,\n",
    "        'use_conv': True,\n",
    "        'use_rcnn_bn': False,\n",
    "        'ls': 0.0\n",
    "    },\n",
    "}"
   ]
  },
  {
   "cell_type": "markdown",
   "metadata": {},
   "source": [
    "### Distributed training configuration"
   ]
  },
  {
   "cell_type": "code",
   "execution_count": 170,
   "metadata": {},
   "outputs": [],
   "source": [
    "# single default config that can be overriden for HPO by manipulating key\n",
    "hyperparam_key = '1x-8-4-4-conv-nobn-nols' #'1x-8-2-4-conv-nobn-nols' #'1x-8-1-2-conv-nobn-nols' #'1x-8-1-4-conv-nobn-nols'\n",
    "hyperparameters = hyperparam_collection[hyperparam_key]\n",
    "model_cfg = \"configs/sagemaker_default_config.py\"\n",
    "hvd_processes_per_host = hyperparameters['num_workers_per_host']\n",
    "hvd_instance_type = hyperparameters['instance_type']\n",
    "hvd_instance_count = hyperparameters['instance_count']"
   ]
  },
  {
   "cell_type": "markdown",
   "metadata": {},
   "source": [
    "### SageMaker configuration"
   ]
  },
  {
   "cell_type": "code",
   "execution_count": null,
   "metadata": {},
   "outputs": [],
   "source": [
    "import subprocess\n",
    "\n",
    "# fill in brackets below\n",
    "\n",
    "account_call = \"aws sts get-caller-identity --query Account --output text\"\n",
    "ecr_account = subprocess.check_output(account_call, shell=True).decode().strip()\n",
    "ecr_repo = [the ECR repo created earlier]\n",
    "algo_name = \"frcnn-tutorial\"\n",
    "\n",
    "s3_bucket = [mybucket-sagemaker] # name of your s3 bucket without s3://\n",
    "docker_image = \"{0}.dkr.ecr.us-east-1.amazonaws.com/{1}:{2}\".format(ecr_account,\n",
    "                                                                    ecr_repo,\n",
    "                                                                    algo_name) # the output of `echo ${FULLNAME}` from the previous section something like 12345.dkr.ecr.us-east-1.amazonaws.com/name:algo\n",
    "user_id = [user_name] # this can be anything you like, used for keeping track of your training jobs"
   ]
  },
  {
   "cell_type": "code",
   "execution_count": 1,
   "metadata": {},
   "outputs": [
    {
     "ename": "NameError",
     "evalue": "name 'get_execution_role' is not defined",
     "output_type": "error",
     "traceback": [
      "\u001b[0;31m---------------------------------------------------------------------------\u001b[0m",
      "\u001b[0;31mNameError\u001b[0m                                 Traceback (most recent call last)",
      "\u001b[0;32m<ipython-input-1-d706207a7378>\u001b[0m in \u001b[0;36m<module>\u001b[0;34m\u001b[0m\n\u001b[0;32m----> 1\u001b[0;31m \u001b[0mrole\u001b[0m \u001b[0;34m=\u001b[0m \u001b[0mget_execution_role\u001b[0m\u001b[0;34m(\u001b[0m\u001b[0;34m)\u001b[0m\u001b[0;34m\u001b[0m\u001b[0;34m\u001b[0m\u001b[0m\n\u001b[0m\u001b[1;32m      2\u001b[0m \u001b[0mnow\u001b[0m \u001b[0;34m=\u001b[0m \u001b[0mdatetime\u001b[0m\u001b[0;34m.\u001b[0m\u001b[0mnow\u001b[0m\u001b[0;34m(\u001b[0m\u001b[0;34m)\u001b[0m\u001b[0;34m\u001b[0m\u001b[0;34m\u001b[0m\u001b[0m\n\u001b[1;32m      3\u001b[0m \u001b[0mtime_str\u001b[0m \u001b[0;34m=\u001b[0m \u001b[0mnow\u001b[0m\u001b[0;34m.\u001b[0m\u001b[0mstrftime\u001b[0m\u001b[0;34m(\u001b[0m\u001b[0;34m\"%d-%m-%Y-%H-%M\"\u001b[0m\u001b[0;34m)\u001b[0m\u001b[0;34m\u001b[0m\u001b[0;34m\u001b[0m\u001b[0m\n\u001b[1;32m      4\u001b[0m \u001b[0muser_id\u001b[0m \u001b[0;34m=\u001b[0m \u001b[0;34m'jbsnyder'\u001b[0m\u001b[0;34m\u001b[0m\u001b[0;34m\u001b[0m\u001b[0m\n\u001b[1;32m      5\u001b[0m \u001b[0mexperiment_id\u001b[0m \u001b[0;34m=\u001b[0m \u001b[0mhyperparam_key\u001b[0m\u001b[0;34m\u001b[0m\u001b[0;34m\u001b[0m\u001b[0m\n",
      "\u001b[0;31mNameError\u001b[0m: name 'get_execution_role' is not defined"
     ]
    }
   ],
   "source": [
    "role = get_execution_role()\n",
    "now = datetime.now()\n",
    "time_str = now.strftime(\"%d-%m-%Y-%H-%M\")\n",
    "experiment_id = hyperparam_key\n",
    "image = docker_image\n",
    "source_dir = \".\"\n",
    "main_script = \"tools/train_sagemaker.py\"\n",
    "ec2_instance = hvd_instance_type.replace(\".\",\"\")\n",
    "\n",
    "distributions = {\n",
    "    \"mpi\": {\n",
    "        \"enabled\": True,\n",
    "        \"processes_per_host\": hvd_processes_per_host,\n",
    "        \"custom_mpi_options\": \"-x OMPI_MCA_btl_vader_single_copy_mechanism=none -x TF_CUDNN_USE_AUTOTUNE=0\"\n",
    "#        \\\n",
    "#        -x HOROVOD_NUM_NCCL_STREAMS=2 -x NCCL_TREE_THRESHOLD=4294967296 -x NCCL_MIN_NRINGS=13\\\n",
    "#        -x HOROVOD_CYCLE_TIME=0.5 -x HOROVOD_FUSION_THRESHOLD=67108864\",\n",
    "    }\n",
    "}\n",
    "\n",
    "channels = {\n",
    "    'coco': 's3://{}/faster-rcnn/data/coco/'.format(s3_bucket),\n",
    "    'weights': 's3://{}/faster-rcnn/data/weights/'.format(s3_bucket)\n",
    "}\n",
    "\n",
    "s3_path = os.path.join('s3://{}/faster-rcnn/'.format(s3_bucket), time_str)\n",
    "\n",
    "job_name = '{}-{}-{}'.format(user_id, ec2_instance, time_str)\n",
    "\n",
    "output_path = os.path.join(s3_path, \"output\", job_name)\n",
    "\n",
    "configuration = {\n",
    "    'configuration': 'configs/sagemaker_default_model_config.py', \n",
    "    's3_path': s3_path,\n",
    "    'instance_name': job_name\n",
    "}\n",
    "configuration.update(hyperparameters)"
   ]
  },
  {
   "cell_type": "code",
   "execution_count": 172,
   "metadata": {},
   "outputs": [
    {
     "name": "stdout",
     "output_type": "stream",
     "text": [
      "{'base_learning_rate': 0.005,\n",
      " 'batch_size_per_device': 4,\n",
      " 'configuration': 'configs/sagemaker_default_model_config.py',\n",
      " 'fp16': True,\n",
      " 'instance_count': 4,\n",
      " 'instance_name': 'mzanur-1x-8-4-4-conv-nobn-nols-mlp3dn24xlarge-22-04-2020-06-29',\n",
      " 'instance_type': 'ml.p3dn.24xlarge',\n",
      " 'ls': 0.0,\n",
      " 'num_workers_per_host': 8,\n",
      " 's3_path': 's3://mzanur-sagemaker/faster-rcnn/22-04-2020-06-29',\n",
      " 'schedule': '1x',\n",
      " 'use_conv': True,\n",
      " 'use_rcnn_bn': False,\n",
      " 'warmup_init_lr_scale': 3.0,\n",
      " 'warmup_steps': 900}\n"
     ]
    }
   ],
   "source": [
    "pprint.pprint(configuration)"
   ]
  },
  {
   "cell_type": "code",
   "execution_count": 173,
   "metadata": {},
   "outputs": [],
   "source": [
    "estimator = TensorFlow(\n",
    "                entry_point=main_script, \n",
    "                source_dir=source_dir, \n",
    "                image_name=image, \n",
    "                role=role,\n",
    "                framework_version=\"2.1.0\",\n",
    "                py_version=\"py3\",\n",
    "                train_instance_count=hvd_instance_count,\n",
    "                train_instance_type=hvd_instance_type,\n",
    "                distributions=distributions,\n",
    "                output_path=output_path, train_volume_size=200,\n",
    "                hyperparameters=configuration\n",
    ")"
   ]
  },
  {
   "cell_type": "code",
   "execution_count": 174,
   "metadata": {},
   "outputs": [],
   "source": [
    "estimator.fit(channels, wait=False, job_name=job_name)"
   ]
  },
  {
   "cell_type": "code",
   "execution_count": null,
   "metadata": {},
   "outputs": [],
   "source": []
  }
 ],
 "metadata": {
  "kernelspec": {
   "display_name": "Python 3",
   "language": "python",
   "name": "python3"
  },
  "language_info": {
   "codemirror_mode": {
    "name": "ipython",
    "version": 3
   },
   "file_extension": ".py",
   "mimetype": "text/x-python",
   "name": "python",
   "nbconvert_exporter": "python",
   "pygments_lexer": "ipython3",
   "version": "3.7.7"
  }
 },
 "nbformat": 4,
 "nbformat_minor": 4
}
